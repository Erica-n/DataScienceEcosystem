{
 "cells": [
  {
   "attachments": {},
   "cell_type": "markdown",
   "id": "785e4503-3a98-469e-b964-70473c7577c6",
   "metadata": {},
   "source": [
    "# Data Science Tools and Ecosystem\n"
   ]
  },
  {
   "cell_type": "markdown",
   "id": "b9d6c92d-005b-4953-95f3-caf63870e80d",
   "metadata": {},
   "source": [
    "En este cuaderno se resumen las herramientas de ciencia de datos y el ecosistema\n"
   ]
  },
  {
   "cell_type": "markdown",
   "id": "0f842c88-a2e8-4658-8ee7-83f8dbdc8d34",
   "metadata": {},
   "source": [
    "**Objetivos:**\n",
    "\n",
    "- Enumerar lenguajes populares para la Ciencia de Datos\n",
    "- Resumir bibliotecas comunes utilizadas por los Científicos de Datos\n",
    "- Presentar herramientas de Ciencia de Datos\n",
    "- Demostrar operaciones aritméticas en Python\n",
    "- Convertir unidades de tiempo (minutos a horas)\n"
   ]
  },
  {
   "cell_type": "markdown",
   "id": "2568f5a7-eb09-47e8-a8eb-dd5fb0af38c0",
   "metadata": {},
   "source": [
    "# Lenguajes de ciencia de Datos\n",
    "Algunos lenguajes son:\n",
    "\n",
    "1. Python\n",
    "2. R\n",
    "3. SQL\n",
    "4. Julia\n"
   ]
  },
  {
   "cell_type": "markdown",
   "id": "accb7387-3c17-40d3-ae1b-d3e271d88f87",
   "metadata": {},
   "source": [
    "Algunas de las bibliotecas comúnmente utilizada son:\n",
    "\n",
    "\n",
    "1. Pandas\n",
    "2. NumPy\n",
    "3. Matplotlib\n",
    "4. Scikit-learn\n",
    "\n"
   ]
  },
  {
   "cell_type": "markdown",
   "id": "80abae34-f4bd-48c8-bd3c-4c2a1be7e34b",
   "metadata": {},
   "source": [
    "| Data Science Tools  |\n",
    "|----------------------|\n",
    "| Jupyter Notebook      |\n",
    "| RStudio               |\n",
    "| Apache Zeppelin       |\n"
   ]
  },
  {
   "cell_type": "markdown",
   "id": "820e001c-4881-4d0a-b413-982bf457ed40",
   "metadata": {},
   "source": [
    "### A continuación se presentan algunos ejemplos de evaluación de expresiones aritméticas en Python\n",
    "\n",
    "\n",
    "1. Suma: `3 + 2` resultado es `5`\n",
    "2. Resta: `5 - 2` resultado es `3`\n",
    "3. Multiplicación: `4 * 3` resultado es `12`\n",
    "4. División: `10 / 2` resultado es `5.0`\n",
    "\n"
   ]
  },
  {
   "cell_type": "code",
   "execution_count": 40,
   "id": "c291218c-0b2d-424b-b544-3da7586d77ef",
   "metadata": {},
   "outputs": [
    {
     "data": {
      "text/plain": [
       "17"
      ]
     },
     "execution_count": 40,
     "metadata": {},
     "output_type": "execute_result"
    }
   ],
   "source": [
    "# Esta es una expresión aritmética simple para multiplicar y luego sumar enteros.\n",
    "result = (3 * 4) + 5\n",
    "result\n"
   ]
  },
  {
   "cell_type": "code",
   "execution_count": 37,
   "id": "fd29c7d7-3226-4889-87d4-a66a033ae59d",
   "metadata": {},
   "outputs": [
    {
     "data": {
      "text/plain": [
       "3.3333333333333335"
      ]
     },
     "execution_count": 37,
     "metadata": {},
     "output_type": "execute_result"
    }
   ],
   "source": [
    "# Esto convertirá 200 minutos a horas dividiendo por 60.\n",
    "hours = 200 / 60\n",
    "hours\n"
   ]
  },
  {
   "cell_type": "markdown",
   "id": "07b002a6-dd76-4b63-8b81-8226a4787dcb",
   "metadata": {},
   "source": [
    "## Autor\n",
    "\n",
    "Nombre del autor: Erica Caballero\n"
   ]
  },
  {
   "cell_type": "code",
   "execution_count": null,
   "id": "58a9c28f-398d-4fae-b58d-04b446601922",
   "metadata": {},
   "outputs": [],
   "source": []
  }
 ],
 "metadata": {
  "kernelspec": {
   "display_name": "Python 3 (ipykernel)",
   "language": "python",
   "name": "python3"
  },
  "language_info": {
   "codemirror_mode": {
    "name": "ipython",
    "version": 3
   },
   "file_extension": ".py",
   "mimetype": "text/x-python",
   "name": "python",
   "nbconvert_exporter": "python",
   "pygments_lexer": "ipython3",
   "version": "3.12.7"
  }
 },
 "nbformat": 4,
 "nbformat_minor": 5
}
